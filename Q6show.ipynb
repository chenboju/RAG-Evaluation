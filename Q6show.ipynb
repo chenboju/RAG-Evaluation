{
 "cells": [
  {
   "cell_type": "markdown",
   "metadata": {},
   "source": [
    "<H1>原文</H1>"
   ]
  },
  {
   "cell_type": "code",
   "execution_count": 38,
   "metadata": {},
   "outputs": [],
   "source": [
    "# Q:006.消費者保護法主要內容為何？\n",
    "# A:消費者保護法計分七章七十七條，第一章總則、第二章消費者權益、第三章消費者保護團體、第四章行政監督、第五章消費爭議之處理、第六章罰則、第七章附則，其主要內容如下：\n",
    "# （一）消費者保護之組織行政：１、主管機關：中央目的事業主管機關、直轄市政府及縣〈市〉政府。２、消費者保護基本政策研擬、審議及監督機關：行政院。３、申訴機關及調解機關：消費者服務中心、消費爭議調解委員會及消費者保護官。\n",
    "# （二）消費者權益之保障：除分別就健康與安全保障、定型化契約、特種交易及消費資訊等四方面予以具體規範，來保障消費者權益外，並明定企業經營者應負的義務與懲罰性賠償金制度。\n",
    "# （三）消費者保護團體：明定消費者保護團體成立之性質、宗旨、任務及權限，並以取得社團法人或財團法人資格者為限。\n",
    "# （四）消費爭議之處理：１、申訴：發生消費爭議時，消費者得為申訴。２、調解：消費者在申訴未獲妥適處理時，得申請調解。３、消費訴訟：規定消費者除得依法提出申訴及調解外，並得提起消費訴訟。同時賦予消費者保護團體訴權。\n",
    "# （五）罰則：對違反本法者，採取行政罰方式，以維護消費者權益。"
   ]
  },
  {
   "cell_type": "markdown",
   "metadata": {},
   "source": [
    "<h1>RAG respone</h1>"
   ]
  },
  {
   "cell_type": "code",
   "execution_count": 39,
   "metadata": {},
   "outputs": [],
   "source": [
    "# 消費者保護法主要內容包括七章七十七條，涵蓋消費者權益保障、消費者保護團體、行政監督、\n",
    "# 消費爭議處理和罰則等方面。其目的在於保護消費者權益、促進國民消費生活安全及提升消費生活品質。\n",
    "# 同時，該法也規定企業經營者的義務及相關的法律責任。"
   ]
  },
  {
   "cell_type": "code",
   "execution_count": 17,
   "metadata": {},
   "outputs": [
    {
     "name": "stderr",
     "output_type": "stream",
     "text": [
      "Evaluating: 100%|██████████| 6/6 [00:31<00:00,  5.23s/it]\n"
     ]
    },
    {
     "data": {
      "text/html": [
       "<div>\n",
       "<style scoped>\n",
       "    .dataframe tbody tr th:only-of-type {\n",
       "        vertical-align: middle;\n",
       "    }\n",
       "\n",
       "    .dataframe tbody tr th {\n",
       "        vertical-align: top;\n",
       "    }\n",
       "\n",
       "    .dataframe thead th {\n",
       "        text-align: right;\n",
       "    }\n",
       "</style>\n",
       "<table border=\"1\" class=\"dataframe\">\n",
       "  <thead>\n",
       "    <tr style=\"text-align: right;\">\n",
       "      <th></th>\n",
       "      <th>user_input</th>\n",
       "      <th>retrieved_contexts</th>\n",
       "      <th>response</th>\n",
       "      <th>reference</th>\n",
       "      <th>context_precision</th>\n",
       "      <th>context_recall</th>\n",
       "      <th>faithfulness</th>\n",
       "      <th>answer_relevancy</th>\n",
       "      <th>answer_correctness</th>\n",
       "      <th>semantic_similarity</th>\n",
       "    </tr>\n",
       "  </thead>\n",
       "  <tbody>\n",
       "    <tr>\n",
       "      <th>0</th>\n",
       "      <td>Q:006.消費者保護法主要內容為何？</td>\n",
       "      <td>[Q:004.消費者保護法與其他法令關係如何？\\n\\nA:關於消費者保護法與其他法令之關係，...</td>\n",
       "      <td>消費者保護法主要內容包括七章七十七條，涵蓋消費者權益保障、消費者保護團體、消費爭議處理及相關...</td>\n",
       "      <td>\\nA:消費者保護法計分七章七十七條，第一章總則、第二章消費者權益、第三章消費者保護團體、第...</td>\n",
       "      <td>1.0</td>\n",
       "      <td>1.0</td>\n",
       "      <td>1.0</td>\n",
       "      <td>0.851328</td>\n",
       "      <td>0.989021</td>\n",
       "      <td>0.956084</td>\n",
       "    </tr>\n",
       "  </tbody>\n",
       "</table>\n",
       "</div>"
      ],
      "text/plain": [
       "            user_input                                 retrieved_contexts  \\\n",
       "0  Q:006.消費者保護法主要內容為何？  [Q:004.消費者保護法與其他法令關係如何？\\n\\nA:關於消費者保護法與其他法令之關係，...   \n",
       "\n",
       "                                            response  \\\n",
       "0  消費者保護法主要內容包括七章七十七條，涵蓋消費者權益保障、消費者保護團體、消費爭議處理及相關...   \n",
       "\n",
       "                                           reference  context_precision  \\\n",
       "0  \\nA:消費者保護法計分七章七十七條，第一章總則、第二章消費者權益、第三章消費者保護團體、第...                1.0   \n",
       "\n",
       "   context_recall  faithfulness  answer_relevancy  answer_correctness  \\\n",
       "0             1.0           1.0          0.851328            0.989021   \n",
       "\n",
       "   semantic_similarity  \n",
       "0             0.956084  "
      ]
     },
     "execution_count": 17,
     "metadata": {},
     "output_type": "execute_result"
    }
   ],
   "source": [
    "    \n",
    "#openai的结果\n",
    "import os\n",
    "from ragas import evaluate\n",
    "from ragas.metrics import (\n",
    "    faithfulness,\n",
    "    answer_relevancy,\n",
    "    context_recall,\n",
    "    context_precision,\n",
    "    answer_correctness,\n",
    "    answer_similarity\n",
    ")\n",
    "\n",
    " \n",
    "result = evaluate(\n",
    "    dataset = dataset, \n",
    "    metrics=[\n",
    "        context_precision,\n",
    "        context_recall,\n",
    "        faithfulness,\n",
    "        answer_relevancy,\n",
    "        answer_correctness,\n",
    "        answer_similarity\n",
    "    ],\n",
    ")\n",
    " \n",
    "df = result.to_pandas()\n",
    "df"
   ]
  },
  {
   "cell_type": "markdown",
   "metadata": {},
   "source": [
    "<H1>Global Search Response</H1>"
   ]
  },
  {
   "cell_type": "code",
   "execution_count": 40,
   "metadata": {},
   "outputs": [],
   "source": [
    "# SUCCESS: Global Search Response:\n",
    "# 消費者保護法的主要內容\n",
    "# 消費者保護法是消費者保護領域的基石，明確規範了企業經營者和主管機關的責任。其主要目的是確保消費者的安全，\n",
    "# 並提供通過調解委員會和法律行動解決糾紛的基礎 [Data: Reports (1)]。\n",
    "\n",
    "# 消費者權益保障\n",
    "# 該法律為消費者爭議調解委員會和消費者保護團體的活動提供了框架，確保消費者權益在不同情境和時間範圍內得到保護 [Data: Reports (2)]。\n",
    "# 這意味著消費者在面對 不公平待遇時，擁有一個可以依賴的法律機制來維護自身權益。\n",
    "\n",
    "# 法律框架與法院管轄權\n",
    "# 消費者保護法還定義了消費者關係及其對法院管轄權的影響，確保消費者在對企業經營者提出申訴時擁有法律框架 [Data: Reports (3)]。\n",
    "# 這有助於消費者在法律上有據 可依，並能夠在必要時訴諸法律手段。\n",
    "\n",
    "# 標籤與品質保證\n",
    "# 此外，該法律要求企業經營者提供清晰的標籤和品質保證，這對於維持消費者信任和防止糾紛至關重要 [Data: Reports (0)]。\n",
    "# 這些規定旨在確保消費者能夠獲得準確的 信息，從而做出明智的購買決策。\n",
    "\n",
    "# 總之，消費者保護法通過多方面的規範和保障措施，為消費者提供了一個全面的保護網絡，確保其權益不受侵害。"
   ]
  },
  {
   "cell_type": "code",
   "execution_count": 21,
   "metadata": {},
   "outputs": [
    {
     "name": "stderr",
     "output_type": "stream",
     "text": [
      "Evaluating: 100%|██████████| 6/6 [00:34<00:00,  5.76s/it]\n"
     ]
    },
    {
     "data": {
      "text/html": [
       "<div>\n",
       "<style scoped>\n",
       "    .dataframe tbody tr th:only-of-type {\n",
       "        vertical-align: middle;\n",
       "    }\n",
       "\n",
       "    .dataframe tbody tr th {\n",
       "        vertical-align: top;\n",
       "    }\n",
       "\n",
       "    .dataframe thead th {\n",
       "        text-align: right;\n",
       "    }\n",
       "</style>\n",
       "<table border=\"1\" class=\"dataframe\">\n",
       "  <thead>\n",
       "    <tr style=\"text-align: right;\">\n",
       "      <th></th>\n",
       "      <th>user_input</th>\n",
       "      <th>retrieved_contexts</th>\n",
       "      <th>response</th>\n",
       "      <th>reference</th>\n",
       "      <th>context_precision</th>\n",
       "      <th>context_recall</th>\n",
       "      <th>faithfulness</th>\n",
       "      <th>answer_relevancy</th>\n",
       "      <th>answer_correctness</th>\n",
       "      <th>semantic_similarity</th>\n",
       "    </tr>\n",
       "  </thead>\n",
       "  <tbody>\n",
       "    <tr>\n",
       "      <th>0</th>\n",
       "      <td>Q:006.消費者保護法主要內容為何？</td>\n",
       "      <td>[Q:004.消費者保護法與其他法令關係如何？\\n\\nA:關於消費者保護法與其他法令之關係，...</td>\n",
       "      <td>\\n消費者保護法的主要內容\\n消費者保護法是消費者保護領域的基石，明確規範了企業經營者和主管...</td>\n",
       "      <td>\\nA:消費者保護法計分七章七十七條，第一章總則、第二章消費者權益、第三章消費者保護團體、第...</td>\n",
       "      <td>1.0</td>\n",
       "      <td>1.0</td>\n",
       "      <td>0.6875</td>\n",
       "      <td>0.860353</td>\n",
       "      <td>0.687654</td>\n",
       "      <td>0.939296</td>\n",
       "    </tr>\n",
       "  </tbody>\n",
       "</table>\n",
       "</div>"
      ],
      "text/plain": [
       "            user_input                                 retrieved_contexts  \\\n",
       "0  Q:006.消費者保護法主要內容為何？  [Q:004.消費者保護法與其他法令關係如何？\\n\\nA:關於消費者保護法與其他法令之關係，...   \n",
       "\n",
       "                                            response  \\\n",
       "0  \\n消費者保護法的主要內容\\n消費者保護法是消費者保護領域的基石，明確規範了企業經營者和主管...   \n",
       "\n",
       "                                           reference  context_precision  \\\n",
       "0  \\nA:消費者保護法計分七章七十七條，第一章總則、第二章消費者權益、第三章消費者保護團體、第...                1.0   \n",
       "\n",
       "   context_recall  faithfulness  answer_relevancy  answer_correctness  \\\n",
       "0             1.0        0.6875          0.860353            0.687654   \n",
       "\n",
       "   semantic_similarity  \n",
       "0             0.939296  "
      ]
     },
     "execution_count": 21,
     "metadata": {},
     "output_type": "execute_result"
    }
   ],
   "source": [
    "\n",
    "#openai的结果\n",
    "import os\n",
    "from ragas import evaluate\n",
    "from ragas.metrics import (\n",
    "    faithfulness,\n",
    "    answer_relevancy,\n",
    "    context_recall,\n",
    "    context_precision,\n",
    "    answer_correctness,\n",
    "    answer_similarity\n",
    ")\n",
    "\n",
    " \n",
    "result = evaluate(\n",
    "    dataset = dataset, \n",
    "    metrics=[\n",
    "        context_precision,\n",
    "        context_recall,\n",
    "        faithfulness,\n",
    "        answer_relevancy,\n",
    "        answer_correctness,\n",
    "        answer_similarity\n",
    "    ],\n",
    ")\n",
    " \n",
    "df = result.to_pandas()\n",
    "df"
   ]
  },
  {
   "cell_type": "markdown",
   "metadata": {},
   "source": [
    "<H1> Local Search Response</H1>"
   ]
  },
  {
   "cell_type": "code",
   "execution_count": 41,
   "metadata": {},
   "outputs": [],
   "source": [
    "# SUCCESS: Local Search Response:\n",
    "# 消費者保護法的主要內容\n",
    "\n",
    "# 消費者保護法是一部旨在保護消費者權益的法律框架，涵蓋了多個方面以確保消費者的安全和權益。以下是其主要內容的概述：\n",
    "\n",
    "# 產品和服務的安全性\n",
    "# 消費者保護法要求企業經營者確保其產品和服務的安全性，並提供產品和服務的標籤及質量保證。\n",
    "# 這些規定旨在防止產品和服務對消費者的生命、健康或財產構成風險 [Data: Entities (0, 5); Relationships (0, 2, 12, 13, 14, 15, 16)]。\n",
    "\n",
    "# 消費者關係和法律管轄\n",
    "# 該法律還規定了消費者關係的法律框架，影響法院的管轄權。\n",
    "# 消費者有權根據消費關係所在地選擇法院，這確保了消費者在法律糾紛中能夠獲得公平的審理 [Data: Entities (0, 32); Relationships (5, 6)]。\n",
    "\n",
    "# 消費者保護團體的角色\n",
    "# 消費者保護法允許消費者保護團體接管消費者的賠償索賠，並以自己的名義提起訴訟。\n",
    "# 這些團體在法律框架內為消費者提供支持，確保他們的權益得到有效的維護 [Data: Entities (0, 36); Relationships (7, 29, 47, 55)]。\n",
    "\n",
    "# 主管機關的監督和執行\n",
    "# 主管機關在消費者保護法中扮演著重要角色，負責監督和調查企業經營者的活動。當產品或服務對消費者安全構成威脅時，主管機關有權命令企業進行改善、回收或銷毀 ，以確保消費者的安全 [Data: Entities (0, 2, 13); Relationships (8, 26, 33)]。\n",
    "# ## 行政院的政策制定和執行\n",
    "\n",
    "# 行政院被授權根據消費者保護法制定調解措施，並負責該法律的實施。\n",
    "# 這表明行政院在政策制定和執行中承擔著重要責任，確保消費者權益得到有效保護 [Data: Entities (0, 11, 30); Relationships (4, 20, 25)]。\n",
    "\n",
    "# 消費者保護法通過這些規定，為消費者提供了一個全面的保護框架，確保他們在市場交易中的合法權益得到保障。"
   ]
  },
  {
   "cell_type": "code",
   "execution_count": 27,
   "metadata": {},
   "outputs": [
    {
     "name": "stderr",
     "output_type": "stream",
     "text": [
      "Evaluating: 100%|██████████| 6/6 [00:51<00:00,  8.55s/it]\n"
     ]
    },
    {
     "data": {
      "text/html": [
       "<div>\n",
       "<style scoped>\n",
       "    .dataframe tbody tr th:only-of-type {\n",
       "        vertical-align: middle;\n",
       "    }\n",
       "\n",
       "    .dataframe tbody tr th {\n",
       "        vertical-align: top;\n",
       "    }\n",
       "\n",
       "    .dataframe thead th {\n",
       "        text-align: right;\n",
       "    }\n",
       "</style>\n",
       "<table border=\"1\" class=\"dataframe\">\n",
       "  <thead>\n",
       "    <tr style=\"text-align: right;\">\n",
       "      <th></th>\n",
       "      <th>user_input</th>\n",
       "      <th>retrieved_contexts</th>\n",
       "      <th>response</th>\n",
       "      <th>reference</th>\n",
       "      <th>context_precision</th>\n",
       "      <th>context_recall</th>\n",
       "      <th>faithfulness</th>\n",
       "      <th>answer_relevancy</th>\n",
       "      <th>answer_correctness</th>\n",
       "      <th>semantic_similarity</th>\n",
       "    </tr>\n",
       "  </thead>\n",
       "  <tbody>\n",
       "    <tr>\n",
       "      <th>0</th>\n",
       "      <td>Q:006.消費者保護法主要內容為何？</td>\n",
       "      <td>[Q:004.消費者保護法與其他法令關係如何？\\n\\nA:關於消費者保護法與其他法令之關係，...</td>\n",
       "      <td>\\n消費者保護法的主要內容\\n消費者保護法是一部旨在保護消費者權益的法律框架，涵蓋了多個方面...</td>\n",
       "      <td>\\nA:消費者保護法計分七章七十七條，第一章總則、第二章消費者權益、第三章消費者保護團體、第...</td>\n",
       "      <td>1.0</td>\n",
       "      <td>1.0</td>\n",
       "      <td>0.869565</td>\n",
       "      <td>0.857345</td>\n",
       "      <td>0.526465</td>\n",
       "      <td>0.939192</td>\n",
       "    </tr>\n",
       "  </tbody>\n",
       "</table>\n",
       "</div>"
      ],
      "text/plain": [
       "            user_input                                 retrieved_contexts  \\\n",
       "0  Q:006.消費者保護法主要內容為何？  [Q:004.消費者保護法與其他法令關係如何？\\n\\nA:關於消費者保護法與其他法令之關係，...   \n",
       "\n",
       "                                            response  \\\n",
       "0  \\n消費者保護法的主要內容\\n消費者保護法是一部旨在保護消費者權益的法律框架，涵蓋了多個方面...   \n",
       "\n",
       "                                           reference  context_precision  \\\n",
       "0  \\nA:消費者保護法計分七章七十七條，第一章總則、第二章消費者權益、第三章消費者保護團體、第...                1.0   \n",
       "\n",
       "   context_recall  faithfulness  answer_relevancy  answer_correctness  \\\n",
       "0             1.0      0.869565          0.857345            0.526465   \n",
       "\n",
       "   semantic_similarity  \n",
       "0             0.939192  "
      ]
     },
     "execution_count": 27,
     "metadata": {},
     "output_type": "execute_result"
    }
   ],
   "source": [
    "\n",
    "#openai的结果\n",
    "import os\n",
    "from ragas import evaluate\n",
    "from ragas.metrics import (\n",
    "    faithfulness,\n",
    "    answer_relevancy,\n",
    "    context_recall,\n",
    "    context_precision,\n",
    "    answer_correctness,\n",
    "    answer_similarity\n",
    ")\n",
    "\n",
    " \n",
    "result = evaluate(\n",
    "    dataset = dataset, \n",
    "    metrics=[\n",
    "        context_precision,\n",
    "        context_recall,\n",
    "        faithfulness,\n",
    "        answer_relevancy,\n",
    "        answer_correctness,\n",
    "        answer_similarity\n",
    "    ],\n",
    ")\n",
    " \n",
    "df = result.to_pandas()\n",
    "df"
   ]
  }
 ],
 "metadata": {
  "kernelspec": {
   "display_name": "newragas",
   "language": "python",
   "name": "python3"
  },
  "language_info": {
   "codemirror_mode": {
    "name": "ipython",
    "version": 3
   },
   "file_extension": ".py",
   "mimetype": "text/x-python",
   "name": "python",
   "nbconvert_exporter": "python",
   "pygments_lexer": "ipython3",
   "version": "3.10.15"
  }
 },
 "nbformat": 4,
 "nbformat_minor": 2
}
